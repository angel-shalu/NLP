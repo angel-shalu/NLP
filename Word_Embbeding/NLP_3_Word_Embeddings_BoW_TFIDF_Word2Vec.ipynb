{
 "cells": [
  {
   "cell_type": "markdown",
   "id": "734bca81-40f2-4297-a705-c23f46a84f7c",
   "metadata": {},
   "source": [
    "**Word Embeddings & NLP Algorithms (BoW, TF-IDF, Word2Vec)**\n",
    "\n",
    "\n",
    "\n",
    "**Difference between Embedding and Dummy Variables**\n",
    "    \n",
    "- **Dummy Variables (One-Hot Encoding)**:\n",
    "\n",
    "\n",
    "  - Each word is represented as a **binary vector** (0/1).  \n",
    "  - No meaning or relationship between words.  \n",
    "  - Example: \"cat\" = [1,0,0], \"dog\" = [0,1,0].  \n",
    "\n",
    "- **Word Embeddings (Word2Vec, GloVe, FastText)**:\n",
    "\n",
    "\n",
    "  - Each word is represented as a **dense vector of real numbers**.  \n",
    "  - Captures **semantic meaning** (e.g., India ≈ Bharat, not Australia).  \n",
    "  - Example: \"king - man + woman ≈ queen\".  \n",
    "\n",
    "\n",
    "# Bag of Words (BoW)\n",
    "\n",
    "BoW converts text into numbers based on word frequency (or presence/absence).  \n"
   ]
  },
  {
   "cell_type": "markdown",
   "id": "cc2424c6-9a2b-4574-9de7-35317c9bfd0a",
   "metadata": {},
   "source": [
    "**Limitation:**  \n",
    "    \n",
    "- Common words (\"the\", \"is\") treated equally as rare words.  \n",
    "- Ignores word meaning & order.\n",
    "\n",
    "The **CountVectorizer** converts text into a numerical matrix.  \n",
    "**Vocabulary** → All unique words found across the sentences.  \n",
    "  Example: `['ahead', 'ai', 'career', 'data', 'genai', 'great', 'has', 'science']`  \n",
    "\n",
    "- **BoW Representation** →  \n",
    "\n",
    "  Each row = a sentence  \n",
    "  Each column = a word from the vocabulary  \n",
    "  Each value = how many times the word appears in that sentence  \n",
    "\n",
    "**Example:**\n",
    "\n",
    "Sentence 1: `\"data science and ai genai has great career ahead\"`  \n",
    "Word **'data'** appears **1 time**  \n",
    "\n",
    "Sentence 2: `\"data data science and ai genai has great career ahead\"`  \n",
    "Word **'data'** appears **2 times** (others appear once)  \n"
   ]
  },
  {
   "cell_type": "code",
   "execution_count": 1,
   "id": "2cba8382-8509-4a22-9825-df624cd14c81",
   "metadata": {},
   "outputs": [
    {
     "name": "stdout",
     "output_type": "stream",
     "text": [
      "Vocabulary: ['ahead' 'ai' 'and' 'career' 'data' 'genai' 'great' 'has' 'science']\n",
      "BoW Representation:\n",
      " [[1 1 1 1 1 1 1 1 1]\n",
      " [1 1 1 1 2 1 1 1 1]]\n"
     ]
    }
   ],
   "source": [
    "from sklearn.feature_extraction.text import CountVectorizer\n",
    "\n",
    "# Example sentences\n",
    "sentences = [\n",
    "    \"data science and ai genai has great career ahead\",\n",
    "    \"data data science and ai genai has great career ahead\"\n",
    "]\n",
    "\n",
    "vectorizer = CountVectorizer()\n",
    "bow = vectorizer.fit_transform(sentences)\n",
    "\n",
    "print(\"Vocabulary:\", vectorizer.get_feature_names_out())\n",
    "print(\"BoW Representation:\\n\", bow.toarray())"
   ]
  },
  {
   "cell_type": "markdown",
   "id": "163fd5b4-5861-4696-9b27-4b93342ce6ec",
   "metadata": {},
   "source": [
    "# TF-IDF (Term Frequency – Inverse Document Frequency)\n",
    "\n",
    "- **TF (Term Frequency)** = count(word) / total words in sentence  \n",
    "- **IDF (Inverse Document Frequency)** = log(Total Sentences / Sentences Containing Word)  \n",
    "- Reduces weight of **common words**, increases weight of **rare but important words**.\n"
   ]
  },
  {
   "cell_type": "markdown",
   "id": "074e23fa-bdae-453a-b724-bf8946134619",
   "metadata": {},
   "source": [
    "Unlike **BoW**, which only counts word frequency,  \n",
    "**TF-IDF** gives higher weight to *important words* and reduces the weight of *common words*.\n",
    "\n",
    "**Formula:**\n",
    "  \n",
    "- **TF (Term Frequency)** = (Word count in sentence) / (Total words in sentence)  \n",
    "- **IDF (Inverse Document Frequency)** = log(Total Sentences / Sentences containing the word)  \n",
    "- **TF-IDF = TF × IDF**\n",
    "\n",
    "**Example with our sentences:**\n",
    "1. `\"data science and ai genai has great career ahead\"`  \n",
    "2. `\"data data science and ai genai has great career ahead\"`  \n",
    "3. `\"data ok data science and ai genai has great career ahead\"`  \n",
    "\n",
    "- Word **\"data\"** appears in all 3 sentences → IDF is **low** → weight is reduced.  \n",
    "- Word **\"ok\"** appears only once in one sentence → IDF is **high** → weight is increased.  \n",
    "\n",
    "**Output:**\n",
    "  \n",
    "- **Vocabulary** → All unique words across sentences  \n",
    "  Example: `['ahead', 'ai', 'career', 'data', 'genai', 'great', 'has', 'ok', 'science']`\n",
    "\n",
    "- **TF-IDF Representation (matrix)** → Each row = sentence, each column = word, each value = TF-IDF weight.\n",
    "\n",
    "The numbers are **decimal values** (not just counts), showing relative importance of words in each sentence.\n",
    "\n",
    "\n",
    "\n",
    "**Insight:**  \n",
    "- Common words like `\"data\"` get smaller values (low importance).  \n",
    "- Rare words like `\"ok\"` get higher values (high importance).\n"
   ]
  },
  {
   "cell_type": "code",
   "execution_count": 2,
   "id": "c1a9ac2a-229d-4206-acff-cb638ed33ec4",
   "metadata": {},
   "outputs": [
    {
     "name": "stdout",
     "output_type": "stream",
     "text": [
      "Vocabulary: ['ahead' 'ai' 'and' 'career' 'data' 'genai' 'great' 'has' 'ok' 'science']\n",
      "TF-IDF Representation:\n",
      " [[0.33333333 0.33333333 0.33333333 0.33333333 0.33333333 0.33333333\n",
      "  0.33333333 0.33333333 0.         0.33333333]\n",
      " [0.28867513 0.28867513 0.28867513 0.28867513 0.57735027 0.28867513\n",
      "  0.28867513 0.28867513 0.         0.28867513]\n",
      " [0.25935344 0.25935344 0.25935344 0.25935344 0.51870689 0.25935344\n",
      "  0.25935344 0.25935344 0.43912355 0.25935344]]\n"
     ]
    }
   ],
   "source": [
    "from sklearn.feature_extraction.text import TfidfVectorizer\n",
    "\n",
    "sentences = [\n",
    "    \"data science and ai genai has great career ahead\",\n",
    "    \"data data science and ai genai has great career ahead\",\n",
    "    \"data ok data science and ai genai has great career ahead\"\n",
    "]\n",
    "\n",
    "vectorizer = TfidfVectorizer()\n",
    "tfidf = vectorizer.fit_transform(sentences)\n",
    "\n",
    "print(\"Vocabulary:\", vectorizer.get_feature_names_out())\n",
    "print(\"TF-IDF Representation:\\n\", tfidf.toarray())"
   ]
  },
  {
   "cell_type": "markdown",
   "id": "940187d2-7f35-4cdd-b7a5-c6397c53c763",
   "metadata": {},
   "source": [
    "# Word Embeddings (Word2Vec)\n",
    "\n",
    "Unlike BoW & TF-IDF (frequency-based), **Word2Vec learns meaning** from context.  \n",
    "\n",
    "Example:  \n",
    "\n",
    "- “India” is closer to “Bharat” than to “Australia”.  \n",
    "- “Fruit” is closer to “Mango” than to “Car”.  \n",
    "\n",
    "We use **Gensim Word2Vec** to build embeddings.\n"
   ]
  },
  {
   "cell_type": "markdown",
   "id": "e5479f5b-5d26-4e30-99f5-3483ca352c38",
   "metadata": {},
   "source": [
    "\n",
    "Unlike **BoW** and **TF-IDF**, which are frequency-based,  \n",
    "**Word2Vec** learns **dense vector representations** of words that capture **semantic meaning**.\n",
    "\n",
    "**Key Concepts:**\n",
    "- Each word is mapped to a **vector of real numbers** (e.g., 50-dimensional here).  \n",
    "- Words that appear in **similar contexts** will have **similar vectors**.  \n",
    "- Example: \"india\" and \"bharat\" should be closer than \"india\" and \"australia\".\n",
    "\n",
    "**Parameters we used:**\n",
    "\n",
    "- `vector_size=50` → Each word is represented by a 50-dimensional vector.  \n",
    "- `window=3` → Context window size (how many words before/after are considered).  \n",
    "- `min_count=1` → Include all words, even those that appear once.  \n",
    "- `sg=1` → Skip-gram model (better for small datasets).  \n",
    "\n",
    "**Output:**\n",
    "- `model.wv['india']` → Shows the embedding (vector) for \"india\".  \n",
    "- `model.wv.most_similar(\"india\")` → Finds words closest to \"india\" in vector space.  \n",
    "\n",
    "**Insight:**\n",
    "- Word2Vec captures **relationships & meaning**:\n",
    "  - \"india\" ≈ \"bharat\"\n",
    "  - \"fruit\" ≈ \"apple\", \"mango\"\n",
    "- This is the basis for **semantic search, recommendations, and modern NLP models**.\n",
    "\n",
    "Unlike BoW/TF-IDF, Word2Vec **does not just count words** – it learns their meaning from context.\n"
   ]
  },
  {
   "cell_type": "code",
   "execution_count": 1,
   "id": "8216177c-c933-404a-8c6f-2dd57aa2c674",
   "metadata": {},
   "outputs": [
    {
     "name": "stdout",
     "output_type": "stream",
     "text": [
      "Vector for 'india':\n",
      " [ 1.63362399e-02 -8.88606533e-03  1.79708675e-02  1.65073294e-02\n",
      " -8.87044426e-03  6.06210204e-04  8.54898244e-03 -7.85264000e-03\n",
      " -1.11199310e-02 -1.30246449e-02 -1.34147645e-03 -5.91843156e-04\n",
      "  8.92616995e-03 -4.94810799e-03 -3.45218170e-04  4.92375158e-03\n",
      "  9.73519776e-03 -6.16168982e-05 -1.26788188e-02 -1.85216144e-02\n",
      "  5.33151615e-05  1.33237885e-02  2.93204538e-03 -1.79330446e-02\n",
      " -1.58772096e-02  1.31038046e-02 -7.57136103e-03  1.25099849e-02\n",
      " -1.33620640e-02  1.69593245e-02 -1.30326487e-02  6.57603983e-03\n",
      " -2.11397163e-03 -1.35750556e-02 -6.57519326e-03 -2.32282397e-03\n",
      " -1.09418798e-02 -2.42269505e-03 -1.51266269e-02  5.29331900e-03\n",
      "  1.81402974e-02 -4.75450046e-03 -1.95302011e-03  7.02712312e-03\n",
      "  1.73301753e-02 -1.18437055e-02 -1.37751559e-02 -5.86596970e-03\n",
      "  1.82953924e-02  1.73253531e-03]\n",
      "\n",
      "Most similar to 'india': [('uk', 0.5292955040931702), ('europe', 0.21057099103927612), ('delhi', 0.18857939541339874), ('london', 0.11843332648277283), ('country', 0.08190791308879852), ('bharat', 0.05414975807070732), ('ireland', 0.032278478145599365), ('dublin', 0.01139847096055746), ('fruit', -0.028643259778618813), ('nation', -0.03169109299778938)]\n"
     ]
    }
   ],
   "source": [
    "from gensim.models import Word2Vec\n",
    "\n",
    "# Sample corpus (tokenized sentences)\n",
    "corpus = [\n",
    "    [\"india\", \"bharat\", \"delhi\"],\n",
    "    [\"uk\", \"england\", \"london\"],\n",
    "    [\"fruit\", \"apple\", \"mango\"],\n",
    "    [\"country\", \"nation\", \"republic\"],\n",
    "    [\"ireland\", \"dublin\", \"europe\"]\n",
    "]\n",
    "\n",
    "# Train Word2Vec model\n",
    "model = Word2Vec(sentences=corpus, vector_size=50, window=3, min_count=1, sg=1)\n",
    "\n",
    "# Get vector for a word\n",
    "print(\"Vector for 'india':\\n\", model.wv['india'])\n",
    "\n",
    "# Find most similar words\n",
    "print(\"\\nMost similar to 'india':\", model.wv.most_similar(\"india\"))"
   ]
  },
  {
   "cell_type": "markdown",
   "id": "d42c30c7-3e82-4211-9661-e2a04aee0b79",
   "metadata": {},
   "source": [
    "# Word2Vec Embedding Visualization\n",
    "\n",
    "- Each word in the corpus is represented as a **50-dimensional vector**.  \n",
    "- To visualize, we used **PCA** to reduce embeddings to 2D.  \n",
    "- Similar words (e.g., \"india\" & \"bharat\", \"fruit\" & \"mango\") should appear **closer** together on the plot.  \n",
    "\n",
    "This shows how Word2Vec captures **semantic meaning** beyond raw frequency.  \n",
    "\n",
    "This way, you’ll see clusters:\n",
    "\n",
    "- \"india\" & \"bharat\" near each other\n",
    "\n",
    "- \"fruit\", \"apple\", \"mango\" grouped together\n",
    "\n",
    "- \"uk\", \"england\", \"london\" close"
   ]
  },
  {
   "cell_type": "code",
   "execution_count": 3,
   "id": "9cc6ef9b-9d13-4366-a684-5f03d2913255",
   "metadata": {},
   "outputs": [
    {
     "data": {
      "image/png": "[encoded data removed]",
      "text/plain": [
       "<Figure size 800x600 with 1 Axes>"
      ]
     },
     "metadata": {},
     "output_type": "display_data"
    }
   ],
   "source": [
    "from sklearn.decomposition import PCA\n",
    "import matplotlib.pyplot as plt\n",
    "\n",
    "# Extract all word vectors\n",
    "words = list(model.wv.key_to_index.keys())\n",
    "word_vectors = model.wv[words]\n",
    "\n",
    "# Reduce dimensions from 50 → 2 for visualization\n",
    "pca = PCA(n_components=2)\n",
    "reduced_vectors = pca.fit_transform(word_vectors)\n",
    "\n",
    "# Plot embeddings\n",
    "plt.figure(figsize=(8,6))\n",
    "plt.scatter(reduced_vectors[:,0], reduced_vectors[:,1], c='blue')\n",
    "\n",
    "for i, word in enumerate(words):\n",
    "    plt.annotate(word, xy=(reduced_vectors[i,0], reduced_vectors[i,1]))\n",
    "\n",
    "plt.title(\"Word2Vec Embedding Visualization (PCA)\")\n",
    "plt.show()"
   ]
  },
  {
   "cell_type": "markdown",
   "id": "6de36b07-67a8-406c-8a19-dedb428c2ffa",
   "metadata": {},
   "source": [
    "**Key Insights**\n",
    "  \n",
    "- **BoW** → Simple, but ignores meaning.  \n",
    "- **TF-IDF** → Better, highlights important words.  \n",
    "- **Word2Vec** → Best for meaning & relationships.  \n",
    "\n",
    "**Real-World Usage**\n",
    "                     \n",
    "- **BoW/TF-IDF** → Text classification, spam detection.  \n",
    "- **Word2Vec** → Semantic search, recommendations, chatbots.  \n",
    "- **Embeddings** → Stored in **Vector Databases** (e.g., Pinecone, FAISS) for **RAG (Retrieval-Augmented Generation)** in LLMs.  \n"
   ]
  }
 ],
 "metadata": {
  "kernelspec": {
   "display_name": "Python (nlp)",
   "language": "python",
   "name": "nlp"
  },
  "language_info": {
   "codemirror_mode": {
    "name": "ipython",
    "version": 3
   },
   "file_extension": ".py",
   "mimetype": "text/x-python",
   "name": "python",
   "nbconvert_exporter": "python",
   "pygments_lexer": "ipython3",
   "version": "3.10.18"
  }
 },
 "nbformat": 4,
 "nbformat_minor": 5
}
