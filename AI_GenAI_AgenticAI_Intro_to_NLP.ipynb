{
 "cells": [
  {
   "cell_type": "markdown",
   "id": "f4a970f7-060f-41b9-ab15-56a6841f01f0",
   "metadata": {},
   "source": [
    "**From Today: Starting AI, Generative AI, and Agentic AI**\n",
    "\n",
    "From today, we begin our journey into **Artificial Intelligence (AI)** — the science of making machines think and act like humans.\n",
    "\n",
    "**What we will explore:**\n",
    "\n",
    "1. **AI (Artificial Intelligence)** – Machines performing tasks that usually require human intelligence.\n",
    "2. **Generative AI (Gen AI)** – AI models that can **create** new content such as text, images, music, and code.  \n",
    "   *Example:* ChatGPT, Midjourney, DALL·E.\n",
    "3. **Agentic AI** – AI systems that can **autonomously take actions** to achieve goals, often combining multiple AI tools, memory, and planning.  \n",
    "   *Example:* An AI travel planner that books tickets, suggests itineraries, and adjusts plans automatically.\n",
    "\n",
    "\n",
    "**First Stop: NLP (Natural Language Processing)**\n",
    "\n",
    "Before AI can think or act for us, it needs to **understand our language** — and that’s where **NLP** comes in.\n",
    "\n",
    "**NLP** = The field of AI that helps computers understand, interpret, and respond to human language.\n",
    "\n",
    "Today we’ll start with:\n",
    "\n",
    "- How NLP mimics human language understanding.\n",
    "- Libraries: **NLTK**, **spaCy**, **Gensim**, **Stanford NLP**.\n",
    "- Core NLP concepts: **NLU** (Natural Language Understanding) & **NLG** (Natural Language Generation).\n",
    "- A practical demo: Tokenizing text into words, sentences, and paragraphs.\n"
   ]
  },
  {
   "cell_type": "markdown",
   "id": "ba13747c-8738-484e-9394-f2ee675a411f",
   "metadata": {},
   "source": [
    "# **Introduction to NLP (Natural Language Processing)**\n",
    "\n",
    "**What is NLP?**\n",
    "                       \n",
    "Natural Language Processing (**NLP**) is a branch of **Artificial Intelligence** that helps computers understand, interpret, and respond to human language.  \n",
    "It acts like a bridge between **human communication** and **computer understanding**.\n",
    "\n",
    "**How it works:**\n",
    "    \n",
    "NLP tries to mimic how the **human brain processes language** by:\n",
    "\n",
    "1. Breaking down language into smaller parts (words, sentences, paragraphs).\n",
    "2. Understanding meaning using grammar, syntax, and semantics.\n",
    "3. Using context to respond or take action.\n",
    "\n",
    "**Common NLP Applications**\n",
    "- Voice assistants (Alexa, Siri, Google Assistant)\n",
    "- Spell checkers (Google Docs, MS Word)\n",
    "- Chatbots (customer service, bookings)\n",
    "- Translation (Google Translate, DeepL)\n",
    "- Information extraction (search engines)\n",
    "- Keyword search (Google, Amazon search)\n",
    "- Making appointments, buying items, etc.\n",
    "\n",
    "**Two Main Parts of NLP**\n",
    "    \n",
    "1. **NLU** – Natural Language Understanding  \n",
    "   - The computer reads text/speech and understands its meaning.  \n",
    "   - Examples: Tokenization, POS tagging, Named Entity Recognition.\n",
    "\n",
    "2. **NLG** – Natural Language Generation  \n",
    "   - The computer generates natural-sounding text or speech.  \n",
    "   - Examples: Chatbot replies, text summarization, machine translation.\n",
    "\n",
    "**Libraries we will use:**\n",
    "    \n",
    "- **NLTK** (Natural Language Toolkit) → main library for basic NLP tasks in Python.\n",
    "- **spaCy** → fast, industrial NLP processing.\n",
    "- **Gensim** → topic modeling, word embeddings.\n",
    "- **Stanford NLP (Stanza)** → advanced linguistic analysis.\n",
    "\n"
   ]
  },
  {
   "cell_type": "markdown",
   "id": "b01d1446-38f3-48c7-b0ed-fa6358a88f4e",
   "metadata": {},
   "source": [
    "**Hierarchy of Text in NLP**\n",
    "\n",
    "1. **Token (word)** → smallest unit of text.  \n",
    "2. **Sentence** → collection of tokens that form a complete thought.  \n",
    "3. **Paragraph** → collection of sentences about the same topic.  \n",
    "4. **Document** → collection of paragraphs (article, book chapter, etc.).  \n",
    "5. **Corpus** → large collection of documents used for analysis or training.\n"
   ]
  },
  {
   "cell_type": "markdown",
   "id": "8ddf90a2-fce2-4a93-9e27-33e5ed6a3793",
   "metadata": {},
   "source": [
    "# Let's See NLP in Action\n",
    "\n",
    "Before diving deep into theory, let's see a **practical demo** of how NLP starts working.\n",
    "\n",
    "We’ll:\n",
    "\n",
    "1. Import the **NLTK** library (main tool for basic NLP in Python).\n",
    "2. Download the built-in language processing resources.\n",
    "3. Load a sample **text document** about AI.\n",
    "4. Use NLTK to break it down into smaller parts (tokens).\n",
    "\n",
    "This will help us understand what’s really happening inside an NLP pipeline before going into detailed concepts.\n"
   ]
  },
  {
   "cell_type": "markdown",
   "id": "c792b894-cba4-48b9-a7e6-8ebec6ad64fa",
   "metadata": {},
   "source": [
    "## **Step 1 Explanation:**\n",
    "\n",
    "- We import nltk for NLP tasks.\n",
    "- nltk.download() opens a GUI to install required resources like tokenizers.\n",
    "- The AI variable stores our example text."
   ]
  },
  {
   "cell_type": "code",
   "execution_count": 1,
   "id": "76a17fdc-14e2-4be4-98ed-0686acb79840",
   "metadata": {},
   "outputs": [],
   "source": [
    "# Step 1: Import NLTK and download resources\n",
    "import os\n",
    "import nltk"
   ]
  },
  {
   "cell_type": "code",
   "execution_count": null,
   "id": "db3f18c1-86b3-4941-86a7-152656556dc7",
   "metadata": {},
   "outputs": [],
   "source": [
    "# Opens the NLTK downloader window (you can download punkt, stopwords, etc.)\n",
    "nltk.download()"
   ]
  },
  {
   "cell_type": "code",
   "execution_count": 2,
   "id": "e459e911-91ba-4282-8066-5ea62e7f96a3",
   "metadata": {},
   "outputs": [],
   "source": [
    "# Example AI text (Document)\n",
    "AI = '''Artificial Intelligence refers to the intelligence of machines. This is in contrast to the natural intelligence of\n",
    "humans and animals. With Artificial Intelligence, machines perform functions such as learning, planning, reasoning and\n",
    "problem-solving. Most noteworthy, Artificial Intelligence is the simulation of human intelligence by machines.\n",
    "It is probably the fastest-growing development in the World of technology and innovation. Furthermore, many experts believe\n",
    "AI could solve major challenges and crisis situations.'''"
   ]
  },
  {
   "cell_type": "markdown",
   "id": "86b7c9d4-7687-48be-8094-c2bca88cfc0f",
   "metadata": {},
   "source": [
    "**Tokenization – The First Step in NLP**\n",
    "\n",
    "Before a machine can understand text, it must **break it into parts**:\n",
    "\n",
    "- **Word Tokenization** → Splitting text into words (tokens).\n",
    "- **Sentence Tokenization** → Splitting text into sentences.\n",
    "\n",
    "These tokens are the building blocks for every other NLP task.\n"
   ]
  },
  {
   "cell_type": "markdown",
   "id": "6748bc4f-4c5d-46c1-964a-3c1945d8028e",
   "metadata": {},
   "source": [
    "## **Step 2 Explanation:**\n",
    "\n",
    "- word_tokenize() splits text into words and punctuation.\n",
    "- Each piece is called a token.\n",
    "- Tokens include words like \"Artificial\", \"Intelligence\" and punctuation like \".\"."
   ]
  },
  {
   "cell_type": "code",
   "execution_count": 3,
   "id": "2e396ea9-cc06-45a3-9bed-e79d5c6b2731",
   "metadata": {},
   "outputs": [
    {
     "name": "stdout",
     "output_type": "stream",
     "text": [
      "Tokens: ['Artificial', 'Intelligence', 'refers', 'to', 'the', 'intelligence', 'of', 'machines', '.', 'This', 'is', 'in', 'contrast', 'to', 'the', 'natural', 'intelligence', 'of', 'humans', 'and', 'animals', '.', 'With', 'Artificial', 'Intelligence', ',', 'machines', 'perform', 'functions', 'such', 'as', 'learning', ',', 'planning', ',', 'reasoning', 'and', 'problem-solving', '.', 'Most', 'noteworthy', ',', 'Artificial', 'Intelligence', 'is', 'the', 'simulation', 'of', 'human', 'intelligence', 'by', 'machines', '.', 'It', 'is', 'probably', 'the', 'fastest-growing', 'development', 'in', 'the', 'World', 'of', 'technology', 'and', 'innovation', '.', 'Furthermore', ',', 'many', 'experts', 'believe', 'AI', 'could', 'solve', 'major', 'challenges', 'and', 'crisis', 'situations', '.']\n",
      "Number of tokens: 81\n"
     ]
    }
   ],
   "source": [
    "# Step 2: Word Tokenization\n",
    "from nltk.tokenize import word_tokenize\n",
    "\n",
    "AI_tokens = word_tokenize(AI)\n",
    "print(\"Tokens:\", AI_tokens)\n",
    "print(\"Number of tokens:\", len(AI_tokens))"
   ]
  },
  {
   "cell_type": "markdown",
   "id": "c09d400e-5ece-4bc7-a806-a5c5fbb457f1",
   "metadata": {},
   "source": [
    "## **Step 3 Explanation:**\n",
    "\n",
    "- sent_tokenize() splits text into sentences.\n",
    "- It uses punctuation and grammar rules to decide sentence boundaries.\n",
    "- Now the machine can identify complete sentences."
   ]
  },
  {
   "cell_type": "code",
   "execution_count": 5,
   "id": "ec6f01a6-e714-4b2e-b611-c41d641652bc",
   "metadata": {},
   "outputs": [
    {
     "name": "stdout",
     "output_type": "stream",
     "text": [
      "Sentences: ['Artificial Intelligence refers to the intelligence of machines.', 'This is in contrast to the natural intelligence of\\nhumans and animals.', 'With Artificial Intelligence, machines perform functions such as learning, planning, reasoning and\\nproblem-solving.', 'Most noteworthy, Artificial Intelligence is the simulation of human intelligence by machines.', 'It is probably the fastest-growing development in the World of technology and innovation.', 'Furthermore, many experts believe\\nAI could solve major challenges and crisis situations.']\n",
      "Number of sentences: 6\n"
     ]
    }
   ],
   "source": [
    "# Step 3: Sentence Tokenization\n",
    "from nltk.tokenize import sent_tokenize\n",
    "\n",
    "AI_sent = sent_tokenize(AI)\n",
    "print(\"Sentences:\", AI_sent)\n",
    "print(\"Number of sentences:\", len(AI_sent))"
   ]
  },
  {
   "cell_type": "markdown",
   "id": "27d3379b-df1f-4cdb-b799-f721ae20335c",
   "metadata": {},
   "source": [
    "## **Step 4 Explanation:**\n",
    "\n",
    "- blankline_tokenize() splits text into paragraphs based on blank lines.\n",
    "- This is helpful when working with larger documents.\n",
    "\n"
   ]
  },
  {
   "cell_type": "code",
   "execution_count": 4,
   "id": "f4642199-ff5e-4625-ae05-ea4ca4a0daa6",
   "metadata": {},
   "outputs": [
    {
     "name": "stdout",
     "output_type": "stream",
     "text": [
      "Paragraphs: ['Artificial Intelligence refers to the intelligence of machines. This is in contrast to the natural intelligence of\\nhumans and animals. With Artificial Intelligence, machines perform functions such as learning, planning, reasoning and\\nproblem-solving. Most noteworthy, Artificial Intelligence is the simulation of human intelligence by machines.\\nIt is probably the fastest-growing development in the World of technology and innovation. Furthermore, many experts believe\\nAI could solve major challenges and crisis situations.']\n",
      "Number of paragraphs: 1\n"
     ]
    }
   ],
   "source": [
    "# Step 4: Paragraph Tokenization\n",
    "from nltk.tokenize import blankline_tokenize\n",
    "\n",
    "AI_blank = blankline_tokenize(AI)\n",
    "print(\"Paragraphs:\", AI_blank)\n",
    "print(\"Number of paragraphs:\", len(AI_blank))"
   ]
  },
  {
   "cell_type": "markdown",
   "id": "16d8ac97-c655-4a6f-9ae6-caf3b38be34b",
   "metadata": {},
   "source": [
    "**Summary**\n",
    "\n",
    "- NLP = making computers understand & work with human language.\n",
    "- We learned about **NLU** and **NLG**.\n",
    "- First NLP step is **Tokenization**:\n",
    "  - Word Tokenization → machine knows individual words.\n",
    "  - Sentence Tokenization → machine knows sentence boundaries.\n",
    "  - Paragraph Tokenization → machine knows text structure."
   ]
  }
 ],
 "metadata": {
  "kernelspec": {
   "display_name": "Python 3 (ipykernel)",
   "language": "python",
   "name": "python3"
  },
  "language_info": {
   "codemirror_mode": {
    "name": "ipython",
    "version": 3
   },
   "file_extension": ".py",
   "mimetype": "text/x-python",
   "name": "python",
   "nbconvert_exporter": "python",
   "pygments_lexer": "ipython3",
   "version": "3.13.5"
  }
 },
 "nbformat": 4,
 "nbformat_minor": 5
}
